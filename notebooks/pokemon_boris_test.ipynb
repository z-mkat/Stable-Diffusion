{
  "nbformat": 4,
  "nbformat_minor": 0,
  "metadata": {
    "colab": {
      "provenance": []
    },
    "kernelspec": {
      "name": "python3",
      "display_name": "Python 3"
    },
    "language_info": {
      "name": "python"
    },
    "accelerator": "GPU"
  },
  "cells": [
    {
      "cell_type": "markdown",
      "source": [
        "# Pokémon text to image demo\n",
        "\n",
        "This notebook demonstrates inference using Stable Diffusion fine tuned on Pokémon to generate new Pokémon form text prompts. The model has been ported to Huggingface Diffusers for easier inference.\n",
        "\n",
        "For more details about the fine tuning process and how to make your own specialised model see [this guide](https://github.com/LambdaLabsML/examples/tree/main/stable-diffusion-finetuning).\n",
        "\n",
        "Also see the following links for more info:\n",
        "\n",
        "- [Lambda Diffusers](https://github.com/LambdaLabsML/lambda-diffusers)\n",
        "- [Captioned Pokémon dataset](https://huggingface.co/datasets/lambdalabs/pokemon-blip-captions)\n",
        "- [Model weights in Diffusers format](https://huggingface.co/lambdalabs/sd-pokemon-diffusers)\n",
        "- [Original model weights](https://huggingface.co/justinpinkney/pokemon-stable-diffusion)\n",
        "- [Training code](https://github.com/justinpinkney/stable-diffusion)\n",
        "\n",
        "Created by Justin Pinkney at [Lambda Labs](https://lambdalabs.com/)"
      ],
      "metadata": {
        "id": "IebtTUPpoORj"
      }
    },
    {
      "cell_type": "code",
      "execution_count": null,
      "metadata": {
        "id": "s8PvlrTpha7t"
      },
      "outputs": [],
      "source": [
        "!nvidia-smi"
      ]
    },
    {
      "cell_type": "code",
      "source": [
        "!pip install diffusers==0.3.0\n",
        "!pip install transformers scipy ftfy"
      ],
      "metadata": {
        "id": "OfYmiqKBh4gU"
      },
      "execution_count": null,
      "outputs": []
    },
    {
      "cell_type": "code",
      "source": [
        "import torch\n",
        "from diffusers import StableDiffusionPipeline\n",
        "from torch import autocast\n",
        "\n",
        "pipe = StableDiffusionPipeline.from_pretrained(\"lambdalabs/sd-pokemon-diffusers\", torch_dtype=torch.float16)  \n",
        "pipe = pipe.to(\"cuda\")"
      ],
      "metadata": {
        "id": "lFUOFx2oh8qU"
      },
      "execution_count": null,
      "outputs": []
    },
    {
      "cell_type": "code",
      "source": [
        "from PIL import Image\n",
        "\n",
        "def image_grid(imgs, rows, cols):\n",
        "    assert len(imgs) == rows*cols\n",
        "\n",
        "    w, h = imgs[0].size\n",
        "    grid = Image.new('RGB', size=(cols*w, rows*h))\n",
        "    grid_w, grid_h = grid.size\n",
        "    \n",
        "    for i, img in enumerate(imgs):\n",
        "        grid.paste(img, box=(i%cols*w, i//cols*h))\n",
        "    return grid"
      ],
      "metadata": {
        "id": "so1GmFN0q_M4"
      },
      "execution_count": 3,
      "outputs": []
    },
    {
      "cell_type": "code",
      "source": [
        "prompt = \"Boris Johnson\"\n",
        "scale = 10\n",
        "n_samples = 4\n",
        "\n",
        "# Sometimes the nsfw checker is confused by the Pokémon images, you can disable\n",
        "# it at your own risk here\n",
        "disable_safety = False\n",
        "\n",
        "if disable_safety:\n",
        "  def null_safety(images, **kwargs):\n",
        "      return images, False\n",
        "  pipe.safety_checker = null_safety\n",
        "\n",
        "with autocast(\"cuda\"):\n",
        "  images = pipe(n_samples*[prompt], guidance_scale=scale).images\n",
        "\n",
        "grid = image_grid(images, rows=2, cols=2)\n",
        "grid"
      ],
      "metadata": {
        "id": "bGjdGH_hitrS"
      },
      "execution_count": null,
      "outputs": []
    },
    {
      "cell_type": "code",
      "source": [],
      "metadata": {
        "id": "-VvwpTP_re9y"
      },
      "execution_count": null,
      "outputs": []
    }
  ]
}